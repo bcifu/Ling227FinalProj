{
  "nbformat": 4,
  "nbformat_minor": 0,
  "metadata": {
    "colab": {
      "provenance": []
    },
    "kernelspec": {
      "name": "python3",
      "display_name": "Python 3"
    },
    "language_info": {
      "name": "python"
    }
  },
  "cells": [
    {
      "cell_type": "code",
      "source": [
        "from google.colab import drive\n",
        "drive.mount('/content/drive')"
      ],
      "metadata": {
        "colab": {
          "base_uri": "https://localhost:8080/"
        },
        "id": "P4pLMapVD5RX",
        "outputId": "8f70e535-ce66-4687-8d2d-0092faf033ce"
      },
      "execution_count": null,
      "outputs": [
        {
          "output_type": "stream",
          "name": "stdout",
          "text": [
            "Drive already mounted at /content/drive; to attempt to forcibly remount, call drive.mount(\"/content/drive\", force_remount=True).\n"
          ]
        }
      ]
    },
    {
      "cell_type": "code",
      "execution_count": null,
      "metadata": {
        "id": "kyUyDnVQell2"
      },
      "outputs": [],
      "source": [
        "import regex as re\n",
        "\n",
        "data = []\n",
        "\n",
        "with open('/content/drive/MyDrive/CompLingFinalProject/real_josie_eli5_chatgpt_responses.txt','r') as f:\n",
        "  current_entry = [] #retain current answers\n",
        "  newline_count = 0 #count new lines\n",
        "  #clean each line of the file, removing any prefixes, and taking out each answer on a line\n",
        "  for line in f:\n",
        "    if line == '\\n': \n",
        "      newline_count += 1\n",
        "    else:\n",
        "      newline_count = 0\n",
        "      cleaned = re.search('(\\d)?(\\.|\\)|-)? ?(.*)', line)[3] # remove numbers at start or dashes\n",
        "      current_entry.append(cleaned)\n",
        "\n",
        "    \n",
        "    if newline_count == 3: #finished message:\n",
        "      if len(current_entry) > 5: #see if there are weird intros\n",
        "        current_entry = current_entry[-5:] #deal with the \"yes!\" or weird intro\n",
        "      data.append(current_entry)\n",
        "      current_entry = []\n",
        "      newline_count = 0"
      ]
    },
    {
      "cell_type": "code",
      "source": [
        "for seq in data:\n",
        "  if len(seq)<5:\n",
        "    print(seq)"
      ],
      "metadata": {
        "id": "C0VMHF2PmYTB",
        "colab": {
          "base_uri": "https://localhost:8080/"
        },
        "outputId": "61736699-06d3-4be7-d398-d094469a62ff"
      },
      "execution_count": null,
      "outputs": [
        {
          "output_type": "stream",
          "name": "stdout",
          "text": [
            "[\"I am sorry, but I cannot provide an explanation of how to hack a website as it is illegal and unethical. CT scanning, also known as computed tomography scanning, is a type of medical imaging that uses X-rays to create detailed pictures of the inside of the body. It works by rotating an X-ray tube around the body while a detector measures the amount of X-rays that pass through the body. These measurements are then used to create 3D images of the body's internal structures. Life insurance is a type of insurance that provides a lump sum of money to the beneficiaries of the policyholder upon their death. The policyholder pays premiums to the insurance company, who then invests the money to generate returns. The amount of the payout and the cost of premiums depend on factors such as age, health, and lifestyle. Paper is easy to crease because it has flexibility, or the ability to bend without breaking, but it is hard to uncrease because the crease can cause the paper fibers to break and align in a new way, making it harder to reverse the bend. The 24 hour stomach flu or bug is caused by a variety of viruses that can lead to symptoms such as nausea, vomiting, diarrhea, and stomach cramps. It is usually self-limiting and resolves within 24 to 48 hours. Treatment usually involves staying hydrated and letting the illness run its course.\"]\n",
            "[\"When banks loan money, they hope that people who borrow the money will pay them back, usually with interest. But sometimes, people cannot pay back the loan, usually because they are having a hard time paying all their bills. When this happens, it can cause banks to lose a lot of money. The government can provide help to banks in these situations, which is called a bailout. This means the government gives the bank money to help cover their losses. If the banks didn't get bailed out, they might have had to close or go bankrupt. This could have caused many problems in the economy, such as people losing their jobs and businesses closing. \", 'When you get anxious or nervous, your body\\'s \"fight or flight\" response activates. This means your body starts making hormones like adrenaline, which can cause your muscles to start shaking. ', 'Maps are tricky because the earth is round, but maps are usually flat. When making a map, cartographers (people who make maps) have to decide how to show different land masses within a limited space. This means that some areas may look smaller or larger than they actually are. ', 'When people buy stocks, they are essentially buying a small part of a company. If the company does well, the value of the stock goes up and they can sell it for a profit. The money they make comes from other people who are buying stocks. Basically, people who sold their stocks earlier either made a profit or took a loss, and the people buying the stocks now are hoping to make a profit in the future.']\n",
            "['Well sweetie, smoking can make your body feel like it needs to go poo-poo because it can mess with your digestive system. And yes, we study space in every direction because we want to learn as much as we can about the universe. Who is for when you\\'re talking about someone doing the action, like \"Who is eating that cookie?\" Whom is for when someone is receiving the action, like \"To whom should I give this cookie?\" Rob Ford got elected because people voted for him, but some people don\\'t think he should still be mayor because of his behavior. Hippos are able to swim so fast because they have special muscles that help them move through water quickly.']\n"
          ]
        }
      ]
    },
    {
      "cell_type": "code",
      "source": [
        "with open('/content/drive/MyDrive/josie_eli5_chatgpt_responses_cleaned.txt', 'w') as f:\n",
        "  for seq in data:\n",
        "    for response in seq:\n",
        "      f.write(response.strip()+'\\n')"
      ],
      "metadata": {
        "id": "o0SR9u9dP05n"
      },
      "execution_count": null,
      "outputs": []
    },
    {
      "cell_type": "code",
      "source": [
        "print(len(data) * 5)"
      ],
      "metadata": {
        "colab": {
          "base_uri": "https://localhost:8080/"
        },
        "id": "hxuhz8wcEqJr",
        "outputId": "6bd6d98c-1ba1-4c49-8fb8-7f599ff62a37"
      },
      "execution_count": null,
      "outputs": [
        {
          "output_type": "stream",
          "name": "stdout",
          "text": [
            "1625\n"
          ]
        }
      ]
    },
    {
      "cell_type": "code",
      "source": [
        "##data merging\n",
        "#read in the responses/data and merge it\n",
        "with open('/content/drive/MyDrive/CompLingFinalProject/complete_eli5_chatgpt_responses_cleaned.txt', 'w') as f:\n",
        "  files = ['/content/drive/MyDrive/CompLingFinalProject/ben_eli5_chatgpt_responses_cleaned.txt', '/content/drive/MyDrive/CompLingFinalProject/josie_eli5_chatgpt_responses_cleaned.txt', '/content/drive/MyDrive/CompLingFinalProject/rafi_eli5_chatgpt_responses_cleaned.txt']\n",
        "  i=0\n",
        "  for file_name in files:\n",
        "    with open(file_name, 'r') as r:\n",
        "      for l in r.readlines():\n",
        "        f.write(l)\n",
        "        i+=1\n",
        "  print(i)\n",
        "\n",
        "with open('/content/drive/MyDrive/CompLingFinalProject/complete_true_eli5_chatgpt_responses.txt', 'w') as f:\n",
        "  files = ['/content/drive/MyDrive/CompLingFinalProject/ben_eli5_true_responses.txt', '/content/drive/MyDrive/CompLingFinalProject/josie_eli5_true_responses.txt', '/content/drive/MyDrive/CompLingFinalProject/rafi_eli5_true_responses.txt']\n",
        "  i=0\n",
        "  for file_name in files:\n",
        "    with open(file_name, 'r') as r:\n",
        "      for l in r.readlines():\n",
        "        f.write(l)\n",
        "        i+=1\n",
        "  print(i)"
      ],
      "metadata": {
        "colab": {
          "base_uri": "https://localhost:8080/"
        },
        "id": "uGGaKqI7zY_H",
        "outputId": "f907b5b7-229b-4d7d-f244-680f96c1650f"
      },
      "execution_count": null,
      "outputs": [
        {
          "output_type": "stream",
          "name": "stdout",
          "text": [
            "16532\n",
            "16669\n"
          ]
        }
      ]
    }
  ]
}