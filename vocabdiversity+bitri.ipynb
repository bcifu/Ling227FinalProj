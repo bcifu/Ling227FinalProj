{
  "nbformat": 4,
  "nbformat_minor": 0,
  "metadata": {
    "colab": {
      "provenance": []
    },
    "kernelspec": {
      "name": "python3",
      "display_name": "Python 3"
    },
    "language_info": {
      "name": "python"
    }
  },
  "cells": [
    {
      "cell_type": "code",
      "execution_count": null,
      "metadata": {
        "id": "xAUwhlKA1Ao-",
        "colab": {
          "base_uri": "https://localhost:8080/"
        },
        "outputId": "0c790e4b-5116-460e-cb62-759fb1e3ea54"
      },
      "outputs": [
        {
          "output_type": "stream",
          "name": "stderr",
          "text": [
            "[nltk_data] Downloading package stopwords to /root/nltk_data...\n",
            "[nltk_data]   Package stopwords is already up-to-date!\n"
          ]
        },
        {
          "output_type": "execute_result",
          "data": {
            "text/plain": [
              "True"
            ]
          },
          "metadata": {},
          "execution_count": 40
        }
      ],
      "source": [
        "import nltk\n",
        "from nltk import FreqDist\n",
        "from nltk.corpus import stopwords\n",
        "nltk.download('stopwords')"
      ]
    },
    {
      "cell_type": "code",
      "source": [
        "%matplotlib inline\n",
        "import matplotlib\n",
        "import matplotlib.pyplot as plt\n",
        "import pandas as pd\n",
        "import seaborn as sns"
      ],
      "metadata": {
        "id": "54rXeObQLKIc"
      },
      "execution_count": null,
      "outputs": []
    },
    {
      "cell_type": "code",
      "source": [
        "from google.colab import drive\n",
        "drive.mount('/content/drive')"
      ],
      "metadata": {
        "colab": {
          "base_uri": "https://localhost:8080/"
        },
        "id": "wrv29GTh6qmy",
        "outputId": "390188d2-e62a-43cf-d042-6931003bcedb"
      },
      "execution_count": null,
      "outputs": [
        {
          "output_type": "stream",
          "name": "stdout",
          "text": [
            "Drive already mounted at /content/drive; to attempt to forcibly remount, call drive.mount(\"/content/drive\", force_remount=True).\n"
          ]
        }
      ]
    },
    {
      "cell_type": "code",
      "source": [
        "#read texts, split lines\n",
        "gpttext = []\n",
        "with open('/content/drive/MyDrive/copy_complete_eli5_chatgpt_responses_cleaned.txt', 'r') as f:\n",
        "    for line in f:     \n",
        "        for word in line.split():\n",
        "            gpttext.append(word)\n",
        "\n",
        "humantext = []\n",
        "with open('/content/drive/MyDrive/copy2_complete_true_eli5_chatgpt_responses.txt', 'r') as f:\n",
        "    for line in f:     \n",
        "        for word in line.split():\n",
        "            humantext.append(word)\n",
        "  \n",
        "print(gpttext[0:10])\n",
        "print(humantext[0:10])"
      ],
      "metadata": {
        "id": "KNP5XXGU1GzL",
        "colab": {
          "base_uri": "https://localhost:8080/"
        },
        "outputId": "02e6469f-f6f1-4753-978d-8692ba1150ca"
      },
      "execution_count": null,
      "outputs": [
        {
          "output_type": "stream",
          "name": "stdout",
          "text": [
            "['Drugs', 'can', 'treat', 'different', 'symptoms', 'even', 'though', 'they', 'have', 'the']\n",
            "['The', 'antihistamine', 'effect', 'is', 'the', 'desired', 'therapeutic', 'effect.', 'The', 'sleep']\n"
          ]
        }
      ]
    },
    {
      "cell_type": "code",
      "source": [
        "#calculate lexical diversity using NLTK intro code for both texts\n",
        "def lexical_diversity(t):\n",
        "    return len(set(t)) / len(t)"
      ],
      "metadata": {
        "id": "iGim8z2V6Ef7"
      },
      "execution_count": null,
      "outputs": []
    },
    {
      "cell_type": "code",
      "source": [
        "ld = lexical_diversity(humantext)\n",
        "ld2 = lexical_diversity(gpttext)\n",
        "print(f'Human text: {ld:.5f}')\n",
        "print(f'ChatGPT text: {ld2:.5f}')"
      ],
      "metadata": {
        "colab": {
          "base_uri": "https://localhost:8080/"
        },
        "id": "R3Qd5tbEARYJ",
        "outputId": "17d80950-7b77-4b6c-9a20-9852de7b7565"
      },
      "execution_count": null,
      "outputs": [
        {
          "output_type": "stream",
          "name": "stdout",
          "text": [
            "Human text: 0.06484\n",
            "ChatGPT text: 0.05786\n"
          ]
        }
      ]
    },
    {
      "cell_type": "markdown",
      "source": [
        "The human-generated text has a marginally higher lexical diversity, 0.065 compared to 0.058."
      ],
      "metadata": {
        "id": "pxL7vQJbmfT_"
      }
    },
    {
      "cell_type": "markdown",
      "source": [
        "Now, I will calculate the word entropy--the uncertainty-- of each text. This code is borrowed from https://medium.com/geekculture/how-to-calculate-the-entropy-of-an-entire-language-d17135b01282. The first is for the human text, second for ChatGPT text."
      ],
      "metadata": {
        "id": "Lak1YlwSPknH"
      }
    },
    {
      "cell_type": "code",
      "source": [
        "from nltk import Counter\n",
        "import math\n",
        "\n",
        "def entropy(prob_dict):\n",
        "    return sum([-v*math.log2(v) for _,v in prob_dict.items()])\n",
        "  \n",
        "freq = Counter(humantext)\n",
        "total = len(humantext)\n",
        "\n",
        "prob = {k:v/total for k,v in freq.items()}\n",
        "\n",
        "entropy_per_word = entropy(prob)\n",
        "print(entropy_per_word)"
      ],
      "metadata": {
        "colab": {
          "base_uri": "https://localhost:8080/"
        },
        "id": "7dsHasONPqoB",
        "outputId": "cb74b6c1-4b0c-40ec-9f37-4dacf3ef543a"
      },
      "execution_count": null,
      "outputs": [
        {
          "output_type": "stream",
          "name": "stdout",
          "text": [
            "11.12278281858379\n"
          ]
        }
      ]
    },
    {
      "cell_type": "code",
      "source": [
        "freq1 = Counter(gpttext)\n",
        "total1 = len(gpttext)\n",
        "\n",
        "prob = {k:v/total for k,v in freq1.items()}\n",
        "\n",
        "entropy_per_word = entropy(prob)\n",
        "print(entropy_per_word)"
      ],
      "metadata": {
        "colab": {
          "base_uri": "https://localhost:8080/"
        },
        "id": "jKfxlT8_TtHP",
        "outputId": "53a64072-d456-41f2-d8ea-1c4cd93dbc10"
      },
      "execution_count": null,
      "outputs": [
        {
          "output_type": "stream",
          "name": "stdout",
          "text": [
            "4.799440080857951\n"
          ]
        }
      ]
    },
    {
      "cell_type": "code",
      "source": [
        "#Investigating word lengths: graph frequency distribution for human lengths, then for both texts to compare\n",
        "human_lengths = [len(w) for w in humantext]\n",
        "length_fdisth = FreqDist(human_lengths)\n",
        "fdsort = sorted(length_fdisth.items(), key=lambda i: i[0])\n",
        "x1 = [a for (a,b) in fdsort]\n",
        "y1 = [b for (a,b) in fdsort]\n",
        "\n",
        "plt.plot(x1,y1)\n",
        "plt.show()"
      ],
      "metadata": {
        "colab": {
          "base_uri": "https://localhost:8080/",
          "height": 430
        },
        "id": "tn_bIGb9awSE",
        "outputId": "4ac643c2-cbe2-422a-fec6-b6ad68f6a34d"
      },
      "execution_count": null,
      "outputs": [
        {
          "output_type": "display_data",
          "data": {
            "text/plain": [
              "<Figure size 640x480 with 1 Axes>"
            ],
            "image/png": "[encoded data removed]"
          },
          "metadata": {}
        }
      ]
    },
    {
      "cell_type": "code",
      "source": [
        "length_fdisth.most_common(15)"
      ],
      "metadata": {
        "colab": {
          "base_uri": "https://localhost:8080/"
        },
        "id": "09--GSeWciux",
        "outputId": "a29fb023-1719-4d40-b4cb-a0a65b67ffb9"
      },
      "execution_count": null,
      "outputs": [
        {
          "output_type": "execute_result",
          "data": {
            "text/plain": [
              "[(3, 371834),\n",
              " (4, 360700),\n",
              " (2, 316289),\n",
              " (5, 235259),\n",
              " (6, 176780),\n",
              " (7, 150798),\n",
              " (8, 100719),\n",
              " (1, 73803),\n",
              " (9, 72682),\n",
              " (10, 47537),\n",
              " (11, 27871),\n",
              " (12, 14966),\n",
              " (13, 8285),\n",
              " (14, 4409),\n",
              " (15, 2588),\n",
              " (16, 1417),\n",
              " (17, 1101),\n",
              " (18, 663),\n",
              " (19, 461),\n",
              " (20, 328),\n",
              " (21, 264),\n",
              " (22, 177),\n",
              " (23, 132),\n",
              " (24, 67),\n",
              " (25, 66),\n",
              " (27, 50),\n",
              " (26, 42),\n",
              " (29, 21),\n",
              " (28, 20),\n",
              " (30, 16),\n",
              " (35, 12),\n",
              " (32, 12),\n",
              " (34, 9),\n",
              " (31, 8),\n",
              " (33, 7),\n",
              " (39, 6),\n",
              " (38, 4),\n",
              " (40, 3),\n",
              " (36, 3),\n",
              " (45, 3)]"
            ]
          },
          "metadata": {},
          "execution_count": 49
        }
      ]
    },
    {
      "cell_type": "code",
      "source": [
        "human_lengths = [len(w) for w in humantext]\n",
        "length_fdisth = FreqDist(human_lengths)\n",
        "fdsort = sorted(length_fdisth.items(), key=lambda i: i[0])\n",
        "x1 = [a for (a,b) in fdsort]\n",
        "y1 = [b for (a,b) in fdsort]\n",
        "\n",
        "gpt_lengths = [len(w) for w in gpttext]\n",
        "length_fdistg = FreqDist(gpt_lengths)\n",
        "fdsortg = sorted(length_fdistg.items(), key=lambda i: i[0])\n",
        "x = [a for (a,b) in fdsortg]\n",
        "y = [b for (a,b) in fdsortg]\n",
        "\n",
        "plt.plot(x, y, color = \"red\", label = \"Chat GPT\")\n",
        "plt.plot(x1,y1, color = \"blue\", label = \"Human\")\n",
        "plt.title(\"Frequency of Word Lengths\")\n",
        "plt.ylabel(\"frequency(f)\", fontsize=14, fontweight= \"bold\")\n",
        "plt.xlabel(\"length(l)\", fontsize=14, fontweight= \"bold\")\n",
        "plt.legend()\n",
        "plt.show()"
      ],
      "metadata": {
        "colab": {
          "base_uri": "https://localhost:8080/",
          "height": 477
        },
        "id": "So46158ubqcb",
        "outputId": "6cb72626-7524-43ae-f6e2-fecd423702a6"
      },
      "execution_count": null,
      "outputs": [
        {
          "output_type": "display_data",
          "data": {
            "text/plain": [
              "<Figure size 640x480 with 1 Axes>"
            ],
            "image/png": "[encoded data removed]"
          },
          "metadata": {}
        }
      ]
    },
    {
      "cell_type": "code",
      "source": [
        "length_fdistg.most_common(40)"
      ],
      "metadata": {
        "colab": {
          "base_uri": "https://localhost:8080/"
        },
        "id": "NovPHbZqc2ow",
        "outputId": "75d8da5a-dc14-4894-b8a0-ed917123e160"
      },
      "execution_count": null,
      "outputs": [
        {
          "output_type": "execute_result",
          "data": {
            "text/plain": [
              "[(3, 144232),\n",
              " (4, 138914),\n",
              " (2, 123805),\n",
              " (5, 91631),\n",
              " (6, 72657),\n",
              " (7, 70690),\n",
              " (8, 45944),\n",
              " (9, 36767),\n",
              " (1, 22747),\n",
              " (10, 22362),\n",
              " (11, 13568),\n",
              " (12, 6734),\n",
              " (13, 4512),\n",
              " (14, 1610),\n",
              " (15, 731),\n",
              " (16, 331),\n",
              " (17, 172),\n",
              " (18, 87),\n",
              " (19, 44),\n",
              " (20, 21),\n",
              " (21, 19),\n",
              " (22, 7),\n",
              " (24, 5),\n",
              " (23, 4),\n",
              " (26, 4),\n",
              " (33, 2),\n",
              " (27, 2),\n",
              " (28, 2),\n",
              " (32, 1),\n",
              " (35, 1)]"
            ]
          },
          "metadata": {},
          "execution_count": 51
        }
      ]
    },
    {
      "cell_type": "markdown",
      "source": [
        "The plots indicate that there are similar distributions of word length in both texts- frequency increases as word length increases until 3 and then decreases, flattening as word length increases into and past the high 10s. However, the human-generated text has substainally longer words than the Chat GPT text, though at a low frequency."
      ],
      "metadata": {
        "id": "ycVSIpK1myy6"
      }
    },
    {
      "cell_type": "code",
      "source": [
        "#get and graph unigram distributions of both texts\n",
        "fdisth = FreqDist(humantext)"
      ],
      "metadata": {
        "id": "at3yJN-MJvwd"
      },
      "execution_count": null,
      "outputs": []
    },
    {
      "cell_type": "code",
      "source": [
        "fdistg = FreqDist(gpttext)"
      ],
      "metadata": {
        "id": "WZCyFSi_RdfZ"
      },
      "execution_count": null,
      "outputs": []
    },
    {
      "cell_type": "code",
      "source": [
        "fdisth.most_common(20)"
      ],
      "metadata": {
        "colab": {
          "base_uri": "https://localhost:8080/"
        },
        "id": "OB5gwpWsL7NS",
        "outputId": "e30e9eb3-32a9-44db-ab59-204406db89bd"
      },
      "execution_count": null,
      "outputs": [
        {
          "output_type": "execute_result",
          "data": {
            "text/plain": [
              "[('the', 95644),\n",
              " ('to', 56347),\n",
              " ('a', 50947),\n",
              " ('of', 46453),\n",
              " ('and', 43807),\n",
              " ('is', 34893),\n",
              " ('that', 27219),\n",
              " ('in', 26691),\n",
              " ('you', 23866),\n",
              " ('it', 19912),\n",
              " ('are', 17352),\n",
              " ('for', 14808),\n",
              " ('have', 12099),\n",
              " ('your', 12061),\n",
              " ('they', 11924),\n",
              " ('be', 11795),\n",
              " ('on', 11657),\n",
              " ('as', 11574),\n",
              " ('can', 10634),\n",
              " ('or', 10565)]"
            ]
          },
          "metadata": {},
          "execution_count": 54
        }
      ]
    },
    {
      "cell_type": "code",
      "source": [
        "fdistg.most_common(20)"
      ],
      "metadata": {
        "colab": {
          "base_uri": "https://localhost:8080/"
        },
        "id": "0bl3LyQyRiCA",
        "outputId": "bce1d4b4-bd74-4ccd-f04a-d2e3ea10d439"
      },
      "execution_count": null,
      "outputs": [
        {
          "output_type": "execute_result",
          "data": {
            "text/plain": [
              "[('the', 34319),\n",
              " ('and', 26910),\n",
              " ('to', 26736),\n",
              " ('a', 21073),\n",
              " ('of', 16968),\n",
              " ('is', 12971),\n",
              " ('in', 11315),\n",
              " ('that', 10606),\n",
              " ('can', 9511),\n",
              " ('it', 8851),\n",
              " ('or', 8765),\n",
              " ('are', 8461),\n",
              " ('because', 6686),\n",
              " ('they', 6309),\n",
              " ('for', 6214),\n",
              " ('be', 5451),\n",
              " ('on', 5267),\n",
              " ('have', 5266),\n",
              " ('you', 5205),\n",
              " ('as', 4749)]"
            ]
          },
          "metadata": {},
          "execution_count": 55
        }
      ]
    },
    {
      "cell_type": "code",
      "source": [
        "commonh = fdisth.most_common()\n",
        "fdplth = [(i+1, commonh[i][1]) for i in range(0, len(commonh))]\n",
        "\n",
        "commong = fdistg.most_common()\n",
        "fdpltg = [(i+1, commong[i][1]) for i in range(0, len(commong))]\n",
        "\n",
        "ranksh = [r for (r,f) in fdplth]\n",
        "freqsh = [f for (r,f) in fdplth]\n",
        "ranksg = [r for (r,f) in fdpltg]\n",
        "freqsg = [f for (r,f) in fdpltg]\n",
        "plt.loglog(ranksh, freqsh, color = \"blue\", label = \"Human\")\n",
        "plt.loglog(ranksg, freqsg, color = \"red\", label = \"Chat GPT\")\n",
        "plt.title(\"Log-log Unigram Distribution\")\n",
        "plt.ylabel(\"frequency(f)\", fontsize=14, fontweight= \"bold\")\n",
        "plt.xlabel(\"rank(r)\", fontsize=14, fontweight= \"bold\")\n",
        "plt.legend()\n",
        "plt.grid(True)\n",
        "plt.show()"
      ],
      "metadata": {
        "colab": {
          "base_uri": "https://localhost:8080/",
          "height": 481
        },
        "id": "lLi3tPWbTA9C",
        "outputId": "18d3488f-4fc4-4fed-b889-785cf58d20c8"
      },
      "execution_count": null,
      "outputs": [
        {
          "output_type": "display_data",
          "data": {
            "text/plain": [
              "<Figure size 640x480 with 1 Axes>"
            ],
            "image/png": "[encoded data removed]"
          },
          "metadata": {}
        }
      ]
    },
    {
      "cell_type": "markdown",
      "source": [
        "The texts have similar rank-frequency distributions and both follow Zipf's law, so I decided to lemmatize both texts. I also removed punctuation and stopwords since many of the most common words were stopwords."
      ],
      "metadata": {
        "id": "tnlpCp_Zn8_9"
      }
    },
    {
      "cell_type": "code",
      "source": [
        "punct = [',', '.', '\"', '\\'', ';', ':', '[', ']', '(', ')', '--', '-', ',\"', '!', '?', '?\"', '|', '||']\n",
        "stop = stopwords.words('english')\n",
        "nonlex = stop + punct"
      ],
      "metadata": {
        "id": "jaWHylE1fyjh"
      },
      "execution_count": null,
      "outputs": []
    },
    {
      "cell_type": "code",
      "source": [
        "#lemmatize the unigrams!!\n",
        "nltk.download('wordnet')\n",
        "from nltk.stem import WordNetLemmatizer \n",
        "\n",
        "lemmatizer = WordNetLemmatizer()"
      ],
      "metadata": {
        "colab": {
          "base_uri": "https://localhost:8080/"
        },
        "id": "C1pyF8OsuE2F",
        "outputId": "7cf4c878-0cf7-4118-c7c4-4015db5111e7"
      },
      "execution_count": null,
      "outputs": [
        {
          "output_type": "stream",
          "name": "stderr",
          "text": [
            "[nltk_data] Downloading package wordnet to /root/nltk_data...\n",
            "[nltk_data]   Package wordnet is already up-to-date!\n"
          ]
        }
      ]
    },
    {
      "cell_type": "code",
      "source": [
        "humantext_lower = [x.lower() for x in humantext]\n",
        "lemmatized_human = [lemmatizer.lemmatize(w) for w in humantext_lower]\n",
        "print(lemmatized_human[0:100])"
      ],
      "metadata": {
        "colab": {
          "base_uri": "https://localhost:8080/"
        },
        "id": "B-E1XKYLV1Sl",
        "outputId": "aecad3e4-f08f-4c11-aa8e-0c0da2a32c96"
      },
      "execution_count": null,
      "outputs": [
        {
          "output_type": "stream",
          "name": "stdout",
          "text": [
            "['the', 'antihistamine', 'effect', 'is', 'the', 'desired', 'therapeutic', 'effect.', 'the', 'sleep', 'aid', 'effect', 'is', 'a', 'side', 'effect', 'of', 'the', 'drug,', 'namely', 'drowsiness.', 'you', 'are', 'taking', 'advantage', 'of', 'a', 'side', 'effect.', '>', 'how', 'do', 'we', 'know', 'all', 'form', 'of', 'life', 'require', 'the', 'same', 'nutrient', 'we', 'do?', 'we', \"don't.\", 'in', 'fact,', \"it's\", 'very', '*un*likely', 'that', '**all**', 'form', 'of', 'life', 'are', 'like', 'us.', 'the', 'problem', 'is', 'that,', 'while', 'we', 'know', 'that', 'life', 'can', 'evolve', 'in', 'environment', 'like', 'earth,', 'we', 'have', 'no', 'idea', 'what', 'condition', 'are', 'or', 'are', 'not', 'conducive', 'to', 'life', 'that', 'is', 'nothing', 'like', 'us.', 'that', 'is,', 'we', 'cannot', 'look', 'at', 'two', 'non-earth-like']\n"
          ]
        }
      ]
    },
    {
      "cell_type": "code",
      "source": [
        "#graph frequency distributions of lemmatized unigrams for both texts, graphing code for these from \n",
        "#https://dariuslfuller.medium.com/creating-visuals-with-nltks-freqdist-ac4e667e49f3\n",
        "h = FreqDist(lemmatized_human)\n"
      ],
      "metadata": {
        "id": "pqDZYvrgWxCi"
      },
      "execution_count": null,
      "outputs": []
    },
    {
      "cell_type": "code",
      "source": [
        "lemmatized_human = [a for a in lemmatized_human if (a.lower() not in nonlex)]\n",
        "h2 = FreqDist(lemmatized_human)\n",
        "h_plot = h2.most_common(15)"
      ],
      "metadata": {
        "id": "HYG-OFkgs2EG"
      },
      "execution_count": null,
      "outputs": []
    },
    {
      "cell_type": "code",
      "source": [
        "## Conversion to Pandas series via Python Dictionary for easier plotting\n",
        "h_plot = pd.Series(dict(h_plot))\n",
        "\n",
        "## Setting figure, ax into variables\n",
        "fig, ax = plt.subplots(figsize=(10,10))\n",
        "\n",
        "## Seaborn plotting using Pandas attributes + xtick rotation for ease of viewing\n",
        "all_plot = sns.barplot(x=h_plot.index, y=h_plot.values, ax=ax).set(title='Lemmed Non-Stopwords, Human')\n",
        "plt.xticks(rotation=30);"
      ],
      "metadata": {
        "colab": {
          "base_uri": "https://localhost:8080/",
          "height": 874
        },
        "id": "9B9Hharksk7S",
        "outputId": "e9d68942-4fe1-4b21-9e82-2df7ec75b8f0"
      },
      "execution_count": null,
      "outputs": [
        {
          "output_type": "display_data",
          "data": {
            "text/plain": [
              "<Figure size 1000x1000 with 1 Axes>"
            ],
            "image/png": "[encoded data removed]"
          },
          "metadata": {}
        }
      ]
    },
    {
      "cell_type": "code",
      "source": [
        "gpttext_lower = [x.lower() for x in gpttext]\n",
        "lemmatized_gpt = [lemmatizer.lemmatize(w) for w in gpttext_lower]\n",
        "print(lemmatized_gpt[0:100])"
      ],
      "metadata": {
        "id": "-HzAjEcKWe83"
      },
      "execution_count": null,
      "outputs": []
    },
    {
      "cell_type": "code",
      "source": [
        "FreqDist(lemmatized_gpt).most_common(10)"
      ],
      "metadata": {
        "id": "Ekcf-u2dpfxN"
      },
      "execution_count": null,
      "outputs": []
    },
    {
      "cell_type": "code",
      "source": [
        "lemmatized_gpt = [a for a in lemmatized_gpt if (a.lower() not in nonlex)]\n",
        "g2 = FreqDist(lemmatized_gpt)\n",
        "g_plot = g2.most_common(15)"
      ],
      "metadata": {
        "id": "cdfj_OLKwEwV"
      },
      "execution_count": null,
      "outputs": []
    },
    {
      "cell_type": "code",
      "source": [
        "## Conversion to Pandas series via Python Dictionary for easier plotting\n",
        "g_plot = pd.Series(dict(g_plot))\n",
        "\n",
        "## Setting figure, ax into variables\n",
        "fig, ax = plt.subplots(figsize=(10,10))\n",
        "\n",
        "## Seaborn plotting using Pandas attributes + xtick rotation for ease of viewing\n",
        "all_plot = sns.barplot(x=g_plot.index, y=g_plot.values, ax=ax).set(title='Lemmed Non-Stopwords, ChatGPT')\n",
        "plt.title = \"Lemmed Non-Stopwords, ChatGPT\"\n",
        "plt.xticks(rotation=30);"
      ],
      "metadata": {
        "id": "pi8OhirYwRfv"
      },
      "execution_count": null,
      "outputs": []
    },
    {
      "cell_type": "code",
      "source": [
        "import sys\n",
        "import spacy"
      ],
      "metadata": {
        "id": "7fuSZEPmcECw"
      },
      "execution_count": null,
      "outputs": []
    },
    {
      "cell_type": "code",
      "source": [
        "#did not end up using spacy to lematize, but kept the code as an example\n",
        "#nlp = spacy.load(\"en_core_web_sm\", disable=['parser', 'ner'])\n",
        "\n",
        "# Parse the sentence using the loaded 'en' model object `nlp`\n",
        "#doc = nlp(\"/content/drive/MyDrive/copy2_complete_true_eli5_chatgpt_responses.txt\")\n",
        "\n",
        "#human_spacey = \" \".join([w.lemma_ for w in doc])"
      ],
      "metadata": {
        "id": "9vjDlH5_caYQ"
      },
      "execution_count": null,
      "outputs": []
    },
    {
      "cell_type": "code",
      "source": [
        "#print(human_spacey[0:10])"
      ],
      "metadata": {
        "id": "wjOqU4BIdtIv"
      },
      "execution_count": null,
      "outputs": []
    },
    {
      "cell_type": "code",
      "source": [
        "#look at distributions of bigrams of stopwords"
      ],
      "metadata": {
        "id": "3T3GuAS6xqEa"
      },
      "execution_count": null,
      "outputs": []
    },
    {
      "cell_type": "code",
      "source": [
        "#get bigrams for both texts\n",
        "human_bigrams = [tuple(humantext[i:i+2]) for i in range(0,len(humantext)-1)]"
      ],
      "metadata": {
        "id": "Zjex1z7XMbtI"
      },
      "execution_count": null,
      "outputs": []
    },
    {
      "cell_type": "code",
      "source": [
        "humanbigramfreq = FreqDist(human_bigrams)\n",
        "humanbigramfreq.most_common(25)"
      ],
      "metadata": {
        "id": "9YHL0xYeN7yC"
      },
      "execution_count": null,
      "outputs": []
    },
    {
      "cell_type": "code",
      "source": [
        "gpt_bigrams = [tuple(gpttext[i:i+2]) for i in range(0,len(gpttext)-1)]"
      ],
      "metadata": {
        "id": "vriqVJ19UmVF"
      },
      "execution_count": null,
      "outputs": []
    },
    {
      "cell_type": "code",
      "source": [
        "gptbigramfreq = FreqDist(gpt_bigrams)\n",
        "gptbigramfreq.most_common(25)"
      ],
      "metadata": {
        "id": "ZQbB7CG3Ve8e"
      },
      "execution_count": null,
      "outputs": []
    },
    {
      "cell_type": "code",
      "source": [
        "#get bigrams of stopwords and non-stopwords. Proceed with graphing bigrams for stopwords.\n",
        "#graphing code again from https://dariuslfuller.medium.com/creating-visuals-with-nltks-freqdist-ac4e667e49f3\n",
        "human_nonstop_bigrams = [(a,b) for (a,b) in human_bigrams \n",
        "                if (a.lower() not in nonlex) and (b.lower() not in nonlex)]\n",
        "lex_bigramfreq = FreqDist(human_nonstop_bigrams)\n",
        "lex_bigramfreq.most_common(25)"
      ],
      "metadata": {
        "id": "GZhFxsj3f7BW"
      },
      "execution_count": null,
      "outputs": []
    },
    {
      "cell_type": "code",
      "source": [
        "human_stop_bigrams = [(a,b) for (a,b) in human_bigrams \n",
        "                if (a.lower() in stop) and (b.lower() in stop)]\n",
        "stop_bigramfreq = FreqDist(human_stop_bigrams)\n",
        "h_plot = stop_bigramfreq.most_common(10)"
      ],
      "metadata": {
        "id": "jGMM8ZHWaBUd"
      },
      "execution_count": null,
      "outputs": []
    },
    {
      "cell_type": "code",
      "source": [
        "\n",
        "wrds = ['-'.join(x) for x, c in h_plot]\n",
        "\n",
        "wdth = [c for x, c in h_plot]\n",
        "\n",
        "plt.title = 'Stopword bigrams, Human'\n",
        "plt.barh(wrds, wdth, color='blue')"
      ],
      "metadata": {
        "id": "XQpkyWlLu4-q"
      },
      "execution_count": null,
      "outputs": []
    },
    {
      "cell_type": "code",
      "source": [
        "gpt_nonstop_bigrams = [(a,b) for (a,b) in gpt_bigrams \n",
        "                if (a.lower() not in nonlex) and (b.lower() not in nonlex)]\n",
        "lex_bigramfreq = FreqDist(gpt_nonstop_bigrams)\n",
        "lex_bigramfreq.most_common(25)"
      ],
      "metadata": {
        "id": "zkzrwcWzgQ8U"
      },
      "execution_count": null,
      "outputs": []
    },
    {
      "cell_type": "code",
      "source": [
        "gpt_stop_bigrams = [(a,b) for (a,b) in gpt_bigrams \n",
        "                if (a.lower() in nonlex) and (b.lower() in nonlex)]\n",
        "stop_bigramfreq = FreqDist(gpt_stop_bigrams)\n",
        "g_plot = stop_bigramfreq.most_common(10)"
      ],
      "metadata": {
        "id": "4Of2FtfObCbC"
      },
      "execution_count": null,
      "outputs": []
    },
    {
      "cell_type": "code",
      "source": [
        "wrds = ['-'.join(x) for x, c in g_plot]\n",
        "\n",
        "# get the counts\n",
        "wdth = [c for x, c in g_plot]\n",
        "\n",
        "plt.title = 'Stopword bigrams, Chat GPT'\n",
        "plt.barh(wrds, wdth, color='red')"
      ],
      "metadata": {
        "id": "K-yCLxDn0mV7"
      },
      "execution_count": null,
      "outputs": []
    },
    {
      "cell_type": "markdown",
      "source": [
        "Looking at the bigrams with and without stopwords, many are the same despite text. The major differences we noticed were that for the bigrams including stopwords, there are many frequent ones including \"because\" in the GPT text, but none for the human text. Additionally, in the text without stopwords, the human text has a bigram with \"I\" in it, while the GPT text has a bigram with \"us\", both without stopwords had bigrams with \"you\". Human text might be more individualistic, while GPT-generated is more collectivist."
      ],
      "metadata": {
        "id": "6b8xXoOTqKYm"
      }
    },
    {
      "cell_type": "code",
      "source": [
        "#get trigrams for both texts and graph, use code from https://dariuslfuller.medium.com/creating-visuals-with-nltks-freqdist-ac4e667e49f3\n",
        "human_trigrams = [tuple(humantext[i:i+3]) for i in range(0,len(humantext)-2)]"
      ],
      "metadata": {
        "id": "RoYosZghgw8p"
      },
      "execution_count": null,
      "outputs": []
    },
    {
      "cell_type": "code",
      "source": [
        "humantrigramfreq = FreqDist(human_trigrams)\n",
        "h_plot = humantrigramfreq.most_common(10)"
      ],
      "metadata": {
        "id": "tVBepgJXh9-M"
      },
      "execution_count": null,
      "outputs": []
    },
    {
      "cell_type": "code",
      "source": [
        "wrds = ['-'.join(x) for x, c in h_plot]\n",
        "\n",
        "# get the counts\n",
        "wdth = [c for x, c in h_plot]\n",
        "\n",
        "plt.title = 'Trigrams, Human'\n",
        "plt.barh(wrds, wdth, color='blue')"
      ],
      "metadata": {
        "colab": {
          "base_uri": "https://localhost:8080/",
          "height": 448
        },
        "id": "sAHBsosWSkwa",
        "outputId": "f846b5bf-c3a9-438b-c24c-a111f4a87577"
      },
      "execution_count": null,
      "outputs": [
        {
          "output_type": "execute_result",
          "data": {
            "text/plain": [
              "<BarContainer object of 10 artists>"
            ]
          },
          "metadata": {},
          "execution_count": 69
        },
        {
          "output_type": "display_data",
          "data": {
            "text/plain": [
              "<Figure size 640x480 with 1 Axes>"
            ],
            "image/png": "[encoded data removed]"
          },
          "metadata": {}
        }
      ]
    },
    {
      "cell_type": "code",
      "source": [
        "gpt_trigrams = [tuple(gpttext[i:i+3]) for i in range(0,len(gpttext)-2)]"
      ],
      "metadata": {
        "id": "QoQ3Q_AaihdM"
      },
      "execution_count": null,
      "outputs": []
    },
    {
      "cell_type": "code",
      "source": [
        "gpttrigramfreq = FreqDist(gpt_trigrams)\n",
        "g_plot = gpttrigramfreq.most_common(10)"
      ],
      "metadata": {
        "id": "vtJUdc_Uih8c"
      },
      "execution_count": null,
      "outputs": []
    },
    {
      "cell_type": "code",
      "source": [
        "wrds = ['-'.join(x) for x, c in g_plot]\n",
        "\n",
        "# get the counts\n",
        "wdth = [c for x, c in g_plot]\n",
        "\n",
        "plt.title = 'Trigrams, ChatGPT'\n",
        "plt.barh(wrds, wdth, color='red')"
      ],
      "metadata": {
        "colab": {
          "base_uri": "https://localhost:8080/",
          "height": 448
        },
        "id": "ExxUMTBjdxUk",
        "outputId": "cd608cf6-3ac2-4890-e82e-03f6ca419335"
      },
      "execution_count": null,
      "outputs": [
        {
          "output_type": "execute_result",
          "data": {
            "text/plain": [
              "<BarContainer object of 10 artists>"
            ]
          },
          "metadata": {},
          "execution_count": 74
        },
        {
          "output_type": "display_data",
          "data": {
            "text/plain": [
              "<Figure size 640x480 with 1 Axes>"
            ],
            "image/png": "[encoded data removed]"
          },
          "metadata": {}
        }
      ]
    },
    {
      "cell_type": "code",
      "source": [
        "human_nonstop_trigrams = [(a,b,c) for (a,b,c) in human_trigrams \n",
        "                if (a.lower() not in nonlex) and (b.lower() not in nonlex) and (c.lower() not in nonlex)]\n",
        "lex_trigramfreq = FreqDist(human_nonstop_trigrams).most_common(10)"
      ],
      "metadata": {
        "colab": {
          "base_uri": "https://localhost:8080/"
        },
        "id": "h3ZfooxckFqs",
        "outputId": "9e41b802-921d-4cc0-999d-0f42a443ece7"
      },
      "execution_count": null,
      "outputs": [
        {
          "output_type": "execute_result",
          "data": {
            "text/plain": [
              "[(('comments_)', '1.', '[ELI5:'), 44),\n",
              " (('|', '|', '|'), 29),\n",
              " ((\"I'm\", 'pretty', 'sure'), 22),\n",
              " (('explained:', '1.', '[ELI5:'), 20),\n",
              " (('|', '0', '|'), 20),\n",
              " (('H', 'H', 'H'), 20),\n",
              " (('would', 'look', 'like'), 18),\n",
              " (('5', 'year', 'old'), 17),\n",
              " (('white', 'blood', 'cells'), 17),\n",
              " (('0', '|', '0'), 17),\n",
              " (('|', '1', '|'), 16),\n",
              " ((\"what's\", 'going', 'on.'), 15),\n",
              " (('pretty', 'much', 'every'), 14),\n",
              " (('something', 'like', 'this:'), 13),\n",
              " (('](_URL_0_)', '1.', '[ELI5:'), 13),\n",
              " (('0', '|', '1'), 13),\n",
              " (('Long', 'story', 'short,'), 12),\n",
              " (('1,', '2,', '3,'), 12),\n",
              " (('1', '|', '0'), 12),\n",
              " (('1', '|', '1'), 12),\n",
              " (('sympathetic', 'nervous', 'system'), 11),\n",
              " (('](_URL_4_)', '1.', '[ELI5:'), 10),\n",
              " (('body', 'gets', 'used'), 9),\n",
              " (('red', 'blood', 'cells'), 9),\n",
              " (('|', '||', '0'), 9)]"
            ]
          },
          "metadata": {},
          "execution_count": 44
        }
      ]
    },
    {
      "cell_type": "code",
      "source": [
        "#get and view stopword trigrams for both texts\n",
        "human_stop_trigrams = [(a,b,c) for (a,b,c) in human_trigrams \n",
        "                if (a.lower() in stop) and (b.lower() in stop) and (c.lower() in stop)]\n",
        "stoph3 = stop_trigramfreq = FreqDist(human_stop_trigrams).most_common(10)"
      ],
      "metadata": {
        "id": "xU-B52jtaOdd"
      },
      "execution_count": null,
      "outputs": []
    },
    {
      "cell_type": "code",
      "source": [
        "gpt_nonstop_trigrams = [(a,b,c) for (a,b,c) in gpt_trigrams \n",
        "                if (a.lower() not in nonlex) and (b.lower() not in nonlex) and (c.lower() not in nonlex)]\n",
        "lexg_trigramfreq = FreqDist(gpt_nonstop_trigrams).most_common(10)\n",
        "lexg_trigramfreq.most_common(25)"
      ],
      "metadata": {
        "colab": {
          "base_uri": "https://localhost:8080/"
        },
        "id": "2hTxnDlGkPYZ",
        "outputId": "9eb12ed5-b5c6-46ce-ca3f-394cb7c834a9"
      },
      "execution_count": null,
      "outputs": [
        {
          "output_type": "execute_result",
          "data": {
            "text/plain": [
              "[(('make', 'us', 'feel'), 57),\n",
              " (('makes', 'us', 'feel'), 37),\n",
              " (('internet', 'service', 'providers'), 22),\n",
              " (('many', 'factors,', 'including'), 21),\n",
              " (('may', 'also', 'use'), 16),\n",
              " (('long', 'time', 'ago'), 15),\n",
              " (('make', 'sure', 'everyone'), 15),\n",
              " (('help', 'us', 'understand'), 15),\n",
              " (('make', 'sure', 'everything'), 15),\n",
              " (('might', 'feel', 'like'), 14),\n",
              " (('long', 'time', 'ago,'), 14),\n",
              " (('may', 'seem', 'like'), 14),\n",
              " (('helps', 'us', 'understand'), 13),\n",
              " (('World', 'War', 'II'), 12),\n",
              " (('world', 'around', 'us.'), 12),\n",
              " (('make', 'sure', \"they're\"), 12),\n",
              " ((\"body's\", 'immune', 'system'), 12),\n",
              " (('would', 'require', 'significant'), 12),\n",
              " (('may', 'feel', 'like'), 12),\n",
              " (('health', 'problems', 'like'), 11),\n",
              " (('many', 'different', 'factors'), 11),\n",
              " (('AI', 'language', 'model,'), 11),\n",
              " (('help', 'us', 'feel'), 11),\n",
              " (('long', 'time', 'ago.'), 11),\n",
              " (('many', 'reasons,', 'including'), 11)]"
            ]
          },
          "metadata": {},
          "execution_count": 52
        }
      ]
    },
    {
      "cell_type": "code",
      "source": [
        "gpt_stop_trigrams = [(a,b,c) for (a,b,c) in gpt_trigrams \n",
        "                if (a.lower() in stop) and (b.lower() in stop) and (c.lower() in stop)]\n",
        "stopg_trigramfreq = FreqDist(gpt_stop_trigrams)\n",
        "stopg3 = stopg_trigramfreq.most_common(25)"
      ],
      "metadata": {
        "id": "K2n9lUwQaj46"
      },
      "execution_count": null,
      "outputs": []
    },
    {
      "cell_type": "code",
      "source": [
        "#code that ended up not being used, please ignore\n",
        "#import pandas as pd\n",
        "#import seaborn as sns\n",
        "\n",
        "## Conversion to Pandas series via Python Dictionary for easier plotting\n",
        "#stopg3 = pd.Series(dict(stopg3))\n",
        "#stoph3 = pd.Series(dict(stoph3))\n",
        "\n",
        "## Setting figure, ax into variables\n",
        "#fig, ax = plt.subplots(figsize=(10,10))\n",
        "\n",
        "## Seaborn plotting using Pandas attributes + xtick rotation for ease of viewing\n",
        "# h_plot = sns.barplot(x=stoph3.index, y=stoph3.values, ax=ax)\n",
        "# g_plot = sns.barplot(x=stopg3.index, y=stopg3.values, ax=ax)\n",
        "# plt.xticks(rotation=30);"
      ],
      "metadata": {
        "colab": {
          "base_uri": "https://localhost:8080/",
          "height": 1000
        },
        "id": "KBtObZWugFY4",
        "outputId": "9fa7605e-d4b5-43ec-b515-7699023dc057"
      },
      "execution_count": null,
      "outputs": [
        {
          "output_type": "error",
          "ename": "NotImplementedError",
          "evalue": "ignored",
          "traceback": [
            "\u001b[0;31m---------------------------------------------------------------------------\u001b[0m",
            "\u001b[0;31mNotImplementedError\u001b[0m                       Traceback (most recent call last)",
            "\u001b[0;32m<ipython-input-63-5174beac3b18>\u001b[0m in \u001b[0;36m<cell line: 12>\u001b[0;34m()\u001b[0m\n\u001b[1;32m     10\u001b[0m \u001b[0;34m\u001b[0m\u001b[0m\n\u001b[1;32m     11\u001b[0m \u001b[0;31m## Seaborn plotting using Pandas attributes + xtick rotation for ease of viewing\u001b[0m\u001b[0;34m\u001b[0m\u001b[0;34m\u001b[0m\u001b[0m\n\u001b[0;32m---> 12\u001b[0;31m \u001b[0mh_plot\u001b[0m \u001b[0;34m=\u001b[0m \u001b[0msns\u001b[0m\u001b[0;34m.\u001b[0m\u001b[0mbarplot\u001b[0m\u001b[0;34m(\u001b[0m\u001b[0mx\u001b[0m\u001b[0;34m=\u001b[0m\u001b[0mstoph3\u001b[0m\u001b[0;34m.\u001b[0m\u001b[0mindex\u001b[0m\u001b[0;34m,\u001b[0m \u001b[0my\u001b[0m\u001b[0;34m=\u001b[0m\u001b[0mstoph3\u001b[0m\u001b[0;34m.\u001b[0m\u001b[0mvalues\u001b[0m\u001b[0;34m,\u001b[0m \u001b[0max\u001b[0m\u001b[0;34m=\u001b[0m\u001b[0max\u001b[0m\u001b[0;34m)\u001b[0m\u001b[0;34m\u001b[0m\u001b[0;34m\u001b[0m\u001b[0m\n\u001b[0m\u001b[1;32m     13\u001b[0m \u001b[0mg_plot\u001b[0m \u001b[0;34m=\u001b[0m \u001b[0msns\u001b[0m\u001b[0;34m.\u001b[0m\u001b[0mbarplot\u001b[0m\u001b[0;34m(\u001b[0m\u001b[0mx\u001b[0m\u001b[0;34m=\u001b[0m\u001b[0mstopg3\u001b[0m\u001b[0;34m.\u001b[0m\u001b[0mindex\u001b[0m\u001b[0;34m,\u001b[0m \u001b[0my\u001b[0m\u001b[0;34m=\u001b[0m\u001b[0mstopg3\u001b[0m\u001b[0;34m.\u001b[0m\u001b[0mvalues\u001b[0m\u001b[0;34m,\u001b[0m \u001b[0max\u001b[0m\u001b[0;34m=\u001b[0m\u001b[0max\u001b[0m\u001b[0;34m)\u001b[0m\u001b[0;34m\u001b[0m\u001b[0;34m\u001b[0m\u001b[0m\n\u001b[1;32m     14\u001b[0m \u001b[0mplt\u001b[0m\u001b[0;34m.\u001b[0m\u001b[0mxticks\u001b[0m\u001b[0;34m(\u001b[0m\u001b[0mrotation\u001b[0m\u001b[0;34m=\u001b[0m\u001b[0;36m30\u001b[0m\u001b[0;34m)\u001b[0m\u001b[0;34m;\u001b[0m\u001b[0;34m\u001b[0m\u001b[0;34m\u001b[0m\u001b[0m\n",
            "\u001b[0;32m/usr/local/lib/python3.10/dist-packages/seaborn/categorical.py\u001b[0m in \u001b[0;36mbarplot\u001b[0;34m(data, x, y, hue, order, hue_order, estimator, errorbar, n_boot, units, seed, orient, color, palette, saturation, width, errcolor, errwidth, capsize, dodge, ci, ax, **kwargs)\u001b[0m\n\u001b[1;32m   2753\u001b[0m         \u001b[0mestimator\u001b[0m \u001b[0;34m=\u001b[0m \u001b[0;34m\"size\"\u001b[0m\u001b[0;34m\u001b[0m\u001b[0;34m\u001b[0m\u001b[0m\n\u001b[1;32m   2754\u001b[0m \u001b[0;34m\u001b[0m\u001b[0m\n\u001b[0;32m-> 2755\u001b[0;31m     plotter = _BarPlotter(x, y, hue, data, order, hue_order,\n\u001b[0m\u001b[1;32m   2756\u001b[0m                           \u001b[0mestimator\u001b[0m\u001b[0;34m,\u001b[0m \u001b[0merrorbar\u001b[0m\u001b[0;34m,\u001b[0m \u001b[0mn_boot\u001b[0m\u001b[0;34m,\u001b[0m \u001b[0munits\u001b[0m\u001b[0;34m,\u001b[0m \u001b[0mseed\u001b[0m\u001b[0;34m,\u001b[0m\u001b[0;34m\u001b[0m\u001b[0;34m\u001b[0m\u001b[0m\n\u001b[1;32m   2757\u001b[0m                           \u001b[0morient\u001b[0m\u001b[0;34m,\u001b[0m \u001b[0mcolor\u001b[0m\u001b[0;34m,\u001b[0m \u001b[0mpalette\u001b[0m\u001b[0;34m,\u001b[0m \u001b[0msaturation\u001b[0m\u001b[0;34m,\u001b[0m\u001b[0;34m\u001b[0m\u001b[0;34m\u001b[0m\u001b[0m\n",
            "\u001b[0;32m/usr/local/lib/python3.10/dist-packages/seaborn/categorical.py\u001b[0m in \u001b[0;36m__init__\u001b[0;34m(self, x, y, hue, data, order, hue_order, estimator, errorbar, n_boot, units, seed, orient, color, palette, saturation, width, errcolor, errwidth, capsize, dodge)\u001b[0m\n\u001b[1;32m   1528\u001b[0m                  errcolor, errwidth, capsize, dodge):\n\u001b[1;32m   1529\u001b[0m         \u001b[0;34m\"\"\"Initialize the plotter.\"\"\"\u001b[0m\u001b[0;34m\u001b[0m\u001b[0;34m\u001b[0m\u001b[0m\n\u001b[0;32m-> 1530\u001b[0;31m         self.establish_variables(x, y, hue, data, orient,\n\u001b[0m\u001b[1;32m   1531\u001b[0m                                  order, hue_order, units)\n\u001b[1;32m   1532\u001b[0m         \u001b[0mself\u001b[0m\u001b[0;34m.\u001b[0m\u001b[0mestablish_colors\u001b[0m\u001b[0;34m(\u001b[0m\u001b[0mcolor\u001b[0m\u001b[0;34m,\u001b[0m \u001b[0mpalette\u001b[0m\u001b[0;34m,\u001b[0m \u001b[0msaturation\u001b[0m\u001b[0;34m)\u001b[0m\u001b[0;34m\u001b[0m\u001b[0;34m\u001b[0m\u001b[0m\n",
            "\u001b[0;32m/usr/local/lib/python3.10/dist-packages/seaborn/categorical.py\u001b[0m in \u001b[0;36mestablish_variables\u001b[0;34m(self, x, y, hue, data, orient, order, hue_order, units)\u001b[0m\n\u001b[1;32m    542\u001b[0m \u001b[0;34m\u001b[0m\u001b[0m\n\u001b[1;32m    543\u001b[0m             \u001b[0;31m# Figure out the plotting orientation\u001b[0m\u001b[0;34m\u001b[0m\u001b[0;34m\u001b[0m\u001b[0m\n\u001b[0;32m--> 544\u001b[0;31m             orient = infer_orient(\n\u001b[0m\u001b[1;32m    545\u001b[0m                 \u001b[0mx\u001b[0m\u001b[0;34m,\u001b[0m \u001b[0my\u001b[0m\u001b[0;34m,\u001b[0m \u001b[0morient\u001b[0m\u001b[0;34m,\u001b[0m \u001b[0mrequire_numeric\u001b[0m\u001b[0;34m=\u001b[0m\u001b[0mself\u001b[0m\u001b[0;34m.\u001b[0m\u001b[0mrequire_numeric\u001b[0m\u001b[0;34m\u001b[0m\u001b[0;34m\u001b[0m\u001b[0m\n\u001b[1;32m    546\u001b[0m             )\n",
            "\u001b[0;32m/usr/local/lib/python3.10/dist-packages/seaborn/_oldcore.py\u001b[0m in \u001b[0;36minfer_orient\u001b[0;34m(x, y, orient, require_numeric)\u001b[0m\n\u001b[1;32m   1582\u001b[0m     \"\"\"\n\u001b[1;32m   1583\u001b[0m \u001b[0;34m\u001b[0m\u001b[0m\n\u001b[0;32m-> 1584\u001b[0;31m     \u001b[0mx_type\u001b[0m \u001b[0;34m=\u001b[0m \u001b[0;32mNone\u001b[0m \u001b[0;32mif\u001b[0m \u001b[0mx\u001b[0m \u001b[0;32mis\u001b[0m \u001b[0;32mNone\u001b[0m \u001b[0;32melse\u001b[0m \u001b[0mvariable_type\u001b[0m\u001b[0;34m(\u001b[0m\u001b[0mx\u001b[0m\u001b[0;34m)\u001b[0m\u001b[0;34m\u001b[0m\u001b[0;34m\u001b[0m\u001b[0m\n\u001b[0m\u001b[1;32m   1585\u001b[0m     \u001b[0my_type\u001b[0m \u001b[0;34m=\u001b[0m \u001b[0;32mNone\u001b[0m \u001b[0;32mif\u001b[0m \u001b[0my\u001b[0m \u001b[0;32mis\u001b[0m \u001b[0;32mNone\u001b[0m \u001b[0;32melse\u001b[0m \u001b[0mvariable_type\u001b[0m\u001b[0;34m(\u001b[0m\u001b[0my\u001b[0m\u001b[0;34m)\u001b[0m\u001b[0;34m\u001b[0m\u001b[0;34m\u001b[0m\u001b[0m\n\u001b[1;32m   1586\u001b[0m \u001b[0;34m\u001b[0m\u001b[0m\n",
            "\u001b[0;32m/usr/local/lib/python3.10/dist-packages/seaborn/_oldcore.py\u001b[0m in \u001b[0;36mvariable_type\u001b[0;34m(vector, boolean_type)\u001b[0m\n\u001b[1;32m   1500\u001b[0m \u001b[0;34m\u001b[0m\u001b[0m\n\u001b[1;32m   1501\u001b[0m     \u001b[0;31m# Special-case all-na data, which is always \"numeric\"\u001b[0m\u001b[0;34m\u001b[0m\u001b[0;34m\u001b[0m\u001b[0m\n\u001b[0;32m-> 1502\u001b[0;31m     \u001b[0;32mif\u001b[0m \u001b[0mpd\u001b[0m\u001b[0;34m.\u001b[0m\u001b[0misna\u001b[0m\u001b[0;34m(\u001b[0m\u001b[0mvector\u001b[0m\u001b[0;34m)\u001b[0m\u001b[0;34m.\u001b[0m\u001b[0mall\u001b[0m\u001b[0;34m(\u001b[0m\u001b[0;34m)\u001b[0m\u001b[0;34m:\u001b[0m\u001b[0;34m\u001b[0m\u001b[0;34m\u001b[0m\u001b[0m\n\u001b[0m\u001b[1;32m   1503\u001b[0m         \u001b[0;32mreturn\u001b[0m \u001b[0mVariableType\u001b[0m\u001b[0;34m(\u001b[0m\u001b[0;34m\"numeric\"\u001b[0m\u001b[0;34m)\u001b[0m\u001b[0;34m\u001b[0m\u001b[0;34m\u001b[0m\u001b[0m\n\u001b[1;32m   1504\u001b[0m \u001b[0;34m\u001b[0m\u001b[0m\n",
            "\u001b[0;32m/usr/local/lib/python3.10/dist-packages/pandas/core/dtypes/missing.py\u001b[0m in \u001b[0;36misna\u001b[0;34m(obj)\u001b[0m\n\u001b[1;32m    183\u001b[0m     \u001b[0mName\u001b[0m\u001b[0;34m:\u001b[0m \u001b[0;36m1\u001b[0m\u001b[0;34m,\u001b[0m \u001b[0mdtype\u001b[0m\u001b[0;34m:\u001b[0m \u001b[0mbool\u001b[0m\u001b[0;34m\u001b[0m\u001b[0;34m\u001b[0m\u001b[0m\n\u001b[1;32m    184\u001b[0m     \"\"\"\n\u001b[0;32m--> 185\u001b[0;31m     \u001b[0;32mreturn\u001b[0m \u001b[0m_isna\u001b[0m\u001b[0;34m(\u001b[0m\u001b[0mobj\u001b[0m\u001b[0;34m)\u001b[0m\u001b[0;34m\u001b[0m\u001b[0;34m\u001b[0m\u001b[0m\n\u001b[0m\u001b[1;32m    186\u001b[0m \u001b[0;34m\u001b[0m\u001b[0m\n\u001b[1;32m    187\u001b[0m \u001b[0;34m\u001b[0m\u001b[0m\n",
            "\u001b[0;32m/usr/local/lib/python3.10/dist-packages/pandas/core/dtypes/missing.py\u001b[0m in \u001b[0;36m_isna\u001b[0;34m(obj, inf_as_na)\u001b[0m\n\u001b[1;32m    208\u001b[0m         \u001b[0;32mreturn\u001b[0m \u001b[0mlibmissing\u001b[0m\u001b[0;34m.\u001b[0m\u001b[0mchecknull\u001b[0m\u001b[0;34m(\u001b[0m\u001b[0mobj\u001b[0m\u001b[0;34m,\u001b[0m \u001b[0minf_as_na\u001b[0m\u001b[0;34m=\u001b[0m\u001b[0minf_as_na\u001b[0m\u001b[0;34m)\u001b[0m\u001b[0;34m\u001b[0m\u001b[0;34m\u001b[0m\u001b[0m\n\u001b[1;32m    209\u001b[0m     \u001b[0;32melif\u001b[0m \u001b[0misinstance\u001b[0m\u001b[0;34m(\u001b[0m\u001b[0mobj\u001b[0m\u001b[0;34m,\u001b[0m \u001b[0mABCMultiIndex\u001b[0m\u001b[0;34m)\u001b[0m\u001b[0;34m:\u001b[0m\u001b[0;34m\u001b[0m\u001b[0;34m\u001b[0m\u001b[0m\n\u001b[0;32m--> 210\u001b[0;31m         \u001b[0;32mraise\u001b[0m \u001b[0mNotImplementedError\u001b[0m\u001b[0;34m(\u001b[0m\u001b[0;34m\"isna is not defined for MultiIndex\"\u001b[0m\u001b[0;34m)\u001b[0m\u001b[0;34m\u001b[0m\u001b[0;34m\u001b[0m\u001b[0m\n\u001b[0m\u001b[1;32m    211\u001b[0m     \u001b[0;32melif\u001b[0m \u001b[0misinstance\u001b[0m\u001b[0;34m(\u001b[0m\u001b[0mobj\u001b[0m\u001b[0;34m,\u001b[0m \u001b[0mtype\u001b[0m\u001b[0;34m)\u001b[0m\u001b[0;34m:\u001b[0m\u001b[0;34m\u001b[0m\u001b[0;34m\u001b[0m\u001b[0m\n\u001b[1;32m    212\u001b[0m         \u001b[0;32mreturn\u001b[0m \u001b[0;32mFalse\u001b[0m\u001b[0;34m\u001b[0m\u001b[0;34m\u001b[0m\u001b[0m\n",
            "\u001b[0;31mNotImplementedError\u001b[0m: isna is not defined for MultiIndex"
          ]
        },
        {
          "output_type": "display_data",
          "data": {
            "text/plain": [
              "<Figure size 1000x1000 with 1 Axes>"
            ],
            "image/png": "[encoded data removed]"
          },
          "metadata": {}
        }
      ]
    },
    {
      "cell_type": "code",
      "source": [],
      "metadata": {
        "id": "6fhxouIQsdaI"
      },
      "execution_count": null,
      "outputs": []
    },
    {
      "cell_type": "markdown",
      "source": [
        "Most of the trigrams for both texts involved stopwords, however, the trigrams for the GPT text were more explanatory (ie. \"this means that\"), which was similar to what we saw in the bigrams. When we removed stopwords, there were few frequent trigrams in our human text that were not a result of the nature of the dataset (numbering, name of the data, etc) while there were many in our generated data that were more typical. Again, we see that \"us\" only appears in the frequent GPT trigrams and \"I\" in the human, suggesting that this could be a way to distinguish the text."
      ],
      "metadata": {
        "id": "1sbECkGKv1M9"
      }
    }
  ]
}