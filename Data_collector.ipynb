{
  "cells": [
    {
      "cell_type": "code",
      "execution_count": null,
      "metadata": {
        "id": "SgqJuPv7dP1w",
        "colab": {
          "base_uri": "https://localhost:8080/"
        },
        "outputId": "e885fcc3-782d-43b4-bf4f-85420268c3b2"
      },
      "outputs": [
        {
          "output_type": "stream",
          "name": "stdout",
          "text": [
            "Mounted at /content/drive\n"
          ]
        }
      ],
      "source": [
        "#Allow Colab notebook to access files on Google Drive\n",
        "\n",
        "from google.colab import drive\n",
        "drive.mount('/content/drive')"
      ]
    },
    {
      "cell_type": "code",
      "execution_count": null,
      "metadata": {
        "id": "_9jIMJSm_cHB"
      },
      "outputs": [],
      "source": [
        "#Necessary installations\n",
        "\n",
        "!pip install openai\n",
        "!pip install nlp"
      ]
    },
    {
      "cell_type": "code",
      "execution_count": null,
      "metadata": {
        "id": "YBGxqzB1Jm5r"
      },
      "outputs": [],
      "source": [
        "#Access eli5 dataset\n",
        "\n",
        "import nlp\n",
        "eli5=nlp.load_dataset('eli5')"
      ]
    },
    {
      "cell_type": "code",
      "execution_count": null,
      "metadata": {
        "id": "LaoeGqjTJz3f"
      },
      "outputs": [],
      "source": [
        "#Save questions and highest-scored human answers\n",
        "\n",
        "questions_arr=[]\n",
        "best_answers_arr=[]\n",
        "for i in range(len(eli5['train_eli5'])):\n",
        "  q_dict=eli5['train_eli5'][i]\n",
        "  questions_arr.append(q_dict['title'])\n",
        "  best_ind=q_dict['answers']['score'].index(max(q_dict['answers']['score']))\n",
        "  best_answers_arr.append(q_dict['answers']['text'][best_ind])\n"
      ]
    },
    {
      "cell_type": "code",
      "execution_count": null,
      "metadata": {
        "colab": {
          "background_save": true
        },
        "id": "4ATQimlxahpF"
      },
      "outputs": [],
      "source": [
        "#Query ChatGPT with eli5 questions and save outputs. This is written for computing all responses in eli5, but note that only a subset were used in this project due to compute time constraints.\n",
        "\n",
        "import openai\n",
        "import time\n",
        "\n",
        "with open('/content/drive/MyDrive/eli5_chatgpt_responses_v2.txt','w') as f:\n",
        "  openai.api_key='PUT KEY HERE'\n",
        "\n",
        "  times_arr=[]\n",
        "  start_time=time.time()\n",
        "  count=0\n",
        "  \n",
        "  #Five queries are input at once, as this significantly increases computation speed.\n",
        "  for i in range(len(questions_arr)//5):\n",
        "    count+=1\n",
        "    if count%100==0:\n",
        "      print(count)\n",
        "    output=openai.ChatCompletion.create(\n",
        "      model=\"gpt-3.5-turbo\",\n",
        "      messages=[\n",
        "            {\"role\": \"system\", \"content\": \"You are a helpful assistant.\"},\n",
        "            {\"role\": \"user\", \"content\": \"Explain like I'm five: \" + questions_arr[5*i]+'   Also, '+questions_arr[5*i+1]+'   Also, '+questions_arr[5*i+2]+'   Also, '+questions_arr[5*i+3]+'   Also, '+questions_arr[5*i+4]},\n",
        "\n",
        "        ]\n",
        "    )\n",
        "    f.write(output['choices'][0]['message']['content'] + '\\n\\n\\n\\n')\n",
        "\n",
        "    #The ChatGPT API limits unpaid users to three queries per minute\n",
        "    times_arr.append(time.time()-start_time)\n",
        "    if i<2:\n",
        "      continue\n",
        "    time_diff=times_arr[-1]-times_arr[-3]\n",
        "    if time_diff<60:\n",
        "      time.sleep(63-time_diff)\n",
        "  "
      ]
    },
    {
      "cell_type": "code",
      "source": [
        "#Save true responses to a text file\n",
        "\n",
        "with open('/content/drive/MyDrive/CompLingFinalProject/josie_eli5_true_responses.txt','w') as f:\n",
        "  for i in range(len(best_answers_arr)):\n",
        "    f.write(best_answers_arr[i].replace('\\n', ' ') + '\\n')"
      ],
      "metadata": {
        "id": "ZwAFaP4xoKix"
      },
      "execution_count": null,
      "outputs": []
    }
  ],
  "metadata": {
    "colab": {
      "provenance": []
    },
    "kernelspec": {
      "display_name": "Python 3",
      "name": "python3"
    },
    "language_info": {
      "name": "python"
    }
  },
  "nbformat": 4,
  "nbformat_minor": 0
}
